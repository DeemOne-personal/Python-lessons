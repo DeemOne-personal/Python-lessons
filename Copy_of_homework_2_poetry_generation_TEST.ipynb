{
  "nbformat": 4,
  "nbformat_minor": 0,
  "metadata": {
    "anaconda-cloud": {},
    "kernelspec": {
      "display_name": "Python 3",
      "language": "python",
      "name": "python3"
    },
    "language_info": {
      "codemirror_mode": {
        "name": "ipython",
        "version": 3
      },
      "file_extension": ".py",
      "mimetype": "text/x-python",
      "name": "python",
      "nbconvert_exporter": "python",
      "pygments_lexer": "ipython3",
      "version": "3.8.3"
    },
    "toc": {
      "base_numbering": 1,
      "nav_menu": {},
      "number_sections": true,
      "sideBar": true,
      "skip_h1_title": false,
      "title_cell": "Table of Contents",
      "title_sidebar": "Contents",
      "toc_cell": false,
      "toc_position": {},
      "toc_section_display": true,
      "toc_window_display": true
    },
    "colab": {
      "name": "Copy of homework_2_poetry_generation_TEST.ipynb",
      "provenance": [],
      "collapsed_sections": [],
      "include_colab_link": true
    }
  },
  "cells": [
    {
      "cell_type": "markdown",
      "metadata": {
        "id": "view-in-github",
        "colab_type": "text"
      },
      "source": [
        "<a href=\"https://colab.research.google.com/github/DeemOne-personal/Python-lessons/blob/main/Copy_of_homework_2_poetry_generation_TEST.ipynb\" target=\"_parent\"><img src=\"https://colab.research.google.com/assets/colab-badge.svg\" alt=\"Open In Colab\"/></a>"
      ]
    },
    {
      "cell_type": "markdown",
      "metadata": {
        "id": "Quao1WwFPOvn"
      },
      "source": [
        "## Homework №2"
      ]
    },
    {
      "cell_type": "markdown",
      "metadata": {
        "id": "txzufAHoPOvo"
      },
      "source": [
        "### Almost Shakespeare\n",
        "\n",
        "Let's try to generate some Shakespeare poetry using RNNs. The sonnets file is available in the notebook directory.\n",
        "\n",
        "Text generation can be designed in several steps:\n",
        "    \n",
        "1. Data loading.\n",
        "2. Dictionary generation.\n",
        "3. Data preprocessing.\n",
        "4. Model (neural network) training.\n",
        "5. Text generation (model evaluation).\n"
      ]
    },
    {
      "cell_type": "markdown",
      "metadata": {
        "id": "MUPTdS1BPOvp"
      },
      "source": [
        "### Data loading"
      ]
    },
    {
      "cell_type": "markdown",
      "metadata": {
        "id": "2KyYA5dZPOvp"
      },
      "source": [
        "Shakespeare sonnets are awailable at this [link](http://www.gutenberg.org/ebooks/1041?msg=welcome_stranger). In addition, they are stored in the same directory as this notebook (`sonnetes.txt`).\n",
        "\n",
        "Simple preprocessing is already done for you in the next cell: all technical info is dropped."
      ]
    },
    {
      "cell_type": "markdown",
      "metadata": {
        "id": "Q8rI-T6qjkly"
      },
      "source": [
        "\n",
        "\n",
        "\n",
        "\n",
        "\n",
        "\n",
        "\n",
        "\n",
        "\n",
        "\n",
        "\n",
        "\n",
        "\n",
        "\n",
        "---\n",
        "\n",
        "\n",
        "\n",
        "\n",
        "\n",
        "\n",
        "\n",
        "\n",
        "\n",
        "\n",
        "\n",
        "\n",
        "\n"
      ]
    },
    {
      "cell_type": "code",
      "metadata": {
        "collapsed": true,
        "id": "hERfiZL8POvq",
        "colab": {
          "base_uri": "https://localhost:8080/"
        },
        "outputId": "ae66f521-3ecd-4e9f-800a-1f675f379554"
      },
      "source": [
        "from google.colab import drive\n",
        "drive.mount('/content/drive')\n",
        "#with open('/content/drive/MyDrive/Colab Notebooks/Edu4 - DS MFTI Adv/Files/HW2/sonnets.txt', 'r') as iofile:\n",
        "with open('/content/drive/MyDrive/Colab Notebooks/Edu4 - DS MFTI Adv/Files/HW2/onegin.txt', 'r') as iofile:\n",
        "    source_text = iofile.readlines()\n",
        "    \n",
        "TEXT_START = 45\n",
        "TEXT_END = -368\n",
        "names = source_text[TEXT_START : TEXT_END]\n",
        "#assert len(names) == 2616\n",
        "start_token = \" \""
      ],
      "execution_count": 122,
      "outputs": [
        {
          "output_type": "stream",
          "text": [
            "Drive already mounted at /content/drive; to attempt to forcibly remount, call drive.mount(\"/content/drive\", force_remount=True).\n"
          ],
          "name": "stdout"
        }
      ]
    },
    {
      "cell_type": "code",
      "metadata": {
        "id": "aR4As896-ce-"
      },
      "source": [
        "import re\n",
        "fullstr=''.join(line for line in names).lower()\n",
        "fullstr = re.sub(r'[^\\w]', ' ', fullstr)\n",
        "fullstr=re.sub(' +', ' ', fullstr)\n",
        "names=fullstr"
      ],
      "execution_count": 123,
      "outputs": []
    },
    {
      "cell_type": "markdown",
      "metadata": {
        "id": "1j7isOykPOvq"
      },
      "source": [
        "In opposite to the in-class practice, this time we want to predict complex text. Let's reduce the complexity of the task and lowercase all the symbols.\n",
        "\n",
        "Now variable `text` is a list of strings. Join all the strings into one and lowercase it."
      ]
    },
    {
      "cell_type": "markdown",
      "metadata": {
        "id": "YZjUQri8POvr"
      },
      "source": [
        "Put all the characters, that you've seen in the text, into variable `tokens`.\n",
        "\n",
        "Create dictionary `token_to_idx = {<char>: <index>}` and dictionary `idx_to_token = {<index>: <char>}`"
      ]
    },
    {
      "cell_type": "code",
      "metadata": {
        "colab": {
          "base_uri": "https://localhost:8080/"
        },
        "id": "jxuhyqyjqPrh",
        "outputId": "a0bca017-0b06-4527-966e-1fbed76dca88"
      },
      "source": [
        "tokens = set()\n",
        "\n",
        "for name in names:\n",
        "    tokens.update(set(name))\n",
        "tokens = sorted(list(tokens))  # <list of all unique characters in the dataset>\n",
        "\n",
        "num_tokens = len(tokens)\n",
        "print(\"num_tokens = \", num_tokens)\n",
        "\n",
        "# <dictionary of symbol -> its identifier (index in tokens list)>\n",
        "token_to_id = {token: idx for idx, token in enumerate(tokens)}\n",
        "\n",
        "assert len(tokens) == len(token_to_id), \"dictionaries must have same size\"\n",
        "\n",
        "for i in range(num_tokens):\n",
        "    assert token_to_id[tokens[i]] == i, \"token identifier must be it's position in tokens list\"\n"
      ],
      "execution_count": 147,
      "outputs": [
        {
          "output_type": "stream",
          "text": [
            "num_tokens =  60\n"
          ],
          "name": "stdout"
        }
      ]
    },
    {
      "cell_type": "markdown",
      "metadata": {
        "id": "8-j5uf_-POvt"
      },
      "source": [
        "### Building the model"
      ]
    },
    {
      "cell_type": "markdown",
      "metadata": {
        "id": "4go5JugdPOvt"
      },
      "source": [
        "Now we want to build and train recurrent neural net which would be able to something similar to Shakespeare's poetry.\n",
        "\n",
        "Let's use vanilla RNN, similar to the one created during the lesson."
      ]
    },
    {
      "cell_type": "code",
      "metadata": {
        "id": "N58SOXVCk21L"
      },
      "source": [
        "import numpy as np\n",
        "def to_matrix(names, max_len=None, pad=token_to_id[\" \"], dtype=\"int32\", batch_first=True):\n",
        "    \"\"\"Casts a list of names into rnn-digestable matrix\"\"\"\n",
        "\n",
        "    #for inline character position\n",
        "    names=list([names])\n",
        "\n",
        "    max_len = max_len or max(map(len, names))\n",
        "    names_ix = np.zeros([len(names), max_len], dtype) + pad\n",
        "\n",
        "    for i in range(len(names)):\n",
        "        line_ix = [token_to_id[c] for c in names[i]]\n",
        "        names_ix[i, : len(line_ix)] = line_ix\n",
        "\n",
        "    if not batch_first:  # convert [batch, time] into [time, batch]\n",
        "        names_ix = np.transpose(names_ix)\n",
        "\n",
        "    return names_ix"
      ],
      "execution_count": 149,
      "outputs": []
    },
    {
      "cell_type": "code",
      "metadata": {
        "colab": {
          "base_uri": "https://localhost:8080/"
        },
        "id": "ykpqa-wtk9jA",
        "outputId": "bfa2294f-d3a4-4fd8-a176-fad27ccda4a4"
      },
      "source": [
        "# Example: cast 4 random names to matrices, pad with zeros\n",
        "#print(\"\\n\".join(names[:5]))\n",
        "#namesn=list([names])\n",
        "print(to_matrix(names[:25]))"
      ],
      "execution_count": 150,
      "outputs": [
        {
          "output_type": "stream",
          "text": [
            "[[ 0 44 42 32 43 29 27  0 13  2  5  2 13  6  0 34 27  0 40 35 39  0 48 41\n",
            "  31]]\n"
          ],
          "name": "stdout"
        }
      ]
    },
    {
      "cell_type": "code",
      "metadata": {
        "id": "n45ATG_hlIcU"
      },
      "source": [
        "import torch\n",
        "import torch.nn.functional as F\n",
        "from torch import nn\n",
        "\n",
        "class CharRNNCell(nn.Module):\n",
        "    \"\"\"\n",
        "    Implement the scheme above as torch module\n",
        "    \"\"\"\n",
        "\n",
        "    #def __init__(self, num_tokens=len(tokens), embedding_size=16, rnn_num_units=64):\n",
        "    def __init__(self, num_tokens=len(tokens), embedding_size=32, rnn_num_units=128):\n",
        "        super(self.__class__, self).__init__()\n",
        "        self.num_units = rnn_num_units\n",
        "\n",
        "        self.embedding = nn.Embedding(num_tokens, embedding_size)\n",
        "        self.rnn_update = nn.Linear(embedding_size + rnn_num_units, rnn_num_units)\n",
        "        self.rnn_to_logits = nn.Linear(rnn_num_units, num_tokens)\n",
        "\n",
        "    def forward(self, x, h_prev):\n",
        "        \"\"\"\n",
        "        This method computes h_next(x, h_prev) and log P(x_next | h_next)\n",
        "        We'll call it repeatedly to produce the whole sequence.\n",
        "\n",
        "        :param x: batch of character ids, containing vector of int64\n",
        "        :param h_prev: previous rnn hidden states, containing matrix [batch, rnn_num_units] of float32\n",
        "        \"\"\"\n",
        "        # get vector embedding of x\n",
        "        # batch, seq leng, emb dim\n",
        "        x_emb = self.embedding(x)\n",
        "\n",
        "        # compute next hidden state using self.rnn_update\n",
        "        # hint: use torch.cat(..., dim=...) for concatenation\n",
        "        x_and_h = torch.cat([x_emb, h_prev], dim=-1)  # YOUR CODE HERE\n",
        "        h_next = self.rnn_update(x_and_h)  # YOUR CODE HERE\n",
        "\n",
        "        h_next = torch.tanh(h_next)  # YOUR CODE HERE\n",
        "\n",
        "        assert h_next.size() == h_prev.size()\n",
        "\n",
        "        # compute logits for next character probs\n",
        "        logits = self.rnn_to_logits(h_next)  # YOUR CODE\n",
        "\n",
        "        return h_next, logits\n",
        "\n",
        "    def initial_state(self, batch_size):\n",
        "        \"\"\" return rnn state before it processes first input (aka h0) \"\"\"\n",
        "        return torch.zeros(batch_size, self.num_units, requires_grad=True)"
      ],
      "execution_count": 151,
      "outputs": []
    },
    {
      "cell_type": "code",
      "metadata": {
        "id": "HUitsztplRqT"
      },
      "source": [
        "char_rnn = CharRNNCell()\n",
        "criterion = nn.NLLLoss()  # YOUR CODE HERE"
      ],
      "execution_count": 152,
      "outputs": []
    },
    {
      "cell_type": "markdown",
      "metadata": {
        "id": "U-tbIPDQpHAE"
      },
      "source": [
        "**RNN LOOP**"
      ]
    },
    {
      "cell_type": "code",
      "metadata": {
        "id": "R0n2YPF1lVh8"
      },
      "source": [
        "def rnn_loop(char_rnn, batch_ix):\n",
        "    \"\"\"\n",
        "    Computes log P(next_character) for all time-steps in names_ix\n",
        "    :param names_ix: an int32 matrix of shape [batch, time], output of to_matrix(names)\n",
        "    \"\"\"\n",
        "    batch_size, max_length = batch_ix.size()\n",
        "    hid_state = char_rnn.initial_state(batch_size)\n",
        "    logprobs = []\n",
        "\n",
        "    for x_t in batch_ix.transpose(0, 1):\n",
        "        hid_state, logits = char_rnn(x_t, hid_state)  # <-- here we call your one-step code\n",
        "        logprobs.append(F.log_softmax(logits, -1))\n",
        "\n",
        "    return torch.stack(logprobs, dim=1)"
      ],
      "execution_count": 153,
      "outputs": []
    },
    {
      "cell_type": "code",
      "metadata": {
        "colab": {
          "base_uri": "https://localhost:8080/"
        },
        "id": "EK1qHZQslYMl",
        "outputId": "91a60d18-01b5-46e2-baa2-7bf2382eab0d"
      },
      "source": [
        "#batch_ix = to_matrix(names[:5])\n",
        "batch_ix = to_matrix(names[:200]) #increased for generating sentences\n",
        "batch_ix = torch.tensor(batch_ix, dtype=torch.int64)\n",
        "\n",
        "logp_seq = rnn_loop(char_rnn, batch_ix)\n",
        "\n",
        "assert torch.max(logp_seq).data.numpy() <= 0\n",
        "assert tuple(logp_seq.size()) == batch_ix.shape + (num_tokens,)\n",
        "logp_seq.shape"
      ],
      "execution_count": 154,
      "outputs": [
        {
          "output_type": "execute_result",
          "data": {
            "text/plain": [
              "torch.Size([1, 200, 60])"
            ]
          },
          "metadata": {
            "tags": []
          },
          "execution_count": 154
        }
      ]
    },
    {
      "cell_type": "markdown",
      "metadata": {
        "id": "H35k_crso_Db"
      },
      "source": [
        "Likelihood and gradients"
      ]
    },
    {
      "cell_type": "code",
      "metadata": {
        "id": "3-tUOuF7ll8e"
      },
      "source": [
        "predictions_logp = logp_seq[:, :-1]\n",
        "actual_next_tokens = batch_ix[:, 1:]\n",
        "\n",
        "# .contiguous() method checks that tensor is stored in the memory correctly to\n",
        "# get its view of desired shape.\n",
        "\n",
        "loss = criterion(\n",
        "    predictions_logp.contiguous().view(-1, num_tokens),\n",
        "    actual_next_tokens.contiguous().view(-1),\n",
        ")"
      ],
      "execution_count": 155,
      "outputs": []
    },
    {
      "cell_type": "code",
      "metadata": {
        "id": "WxYh6XRllowH"
      },
      "source": [
        "loss.backward()"
      ],
      "execution_count": 156,
      "outputs": []
    },
    {
      "cell_type": "code",
      "metadata": {
        "id": "Sx9jEfoKlqaB"
      },
      "source": [
        "for w in char_rnn.parameters():\n",
        "    assert (\n",
        "        w.grad is not None and torch.max(torch.abs(w.grad)).data.numpy() != 0\n",
        "    ), \"Loss is not differentiable w.r.t. a weight with shape %s. Check forward method.\" % (\n",
        "        w.size(),\n",
        "    )"
      ],
      "execution_count": 157,
      "outputs": []
    },
    {
      "cell_type": "markdown",
      "metadata": {
        "id": "38fxOoVjmed4"
      },
      "source": [
        "**Loop**"
      ]
    },
    {
      "cell_type": "code",
      "metadata": {
        "id": "XGRv-yiVSkLe"
      },
      "source": [
        "import random\n",
        "def getrndstr(srcstr, size=32):\n",
        "  srcstr=srcstr.split() \n",
        "  wordcnt=len(names.split())\n",
        "  wordrndnum=random.randrange(0, wordcnt-size)\n",
        "  return ' '.join(line for line in srcstr[wordrndnum:wordrndnum+size])"
      ],
      "execution_count": 158,
      "outputs": []
    },
    {
      "cell_type": "code",
      "metadata": {
        "colab": {
          "base_uri": "https://localhost:8080/"
        },
        "id": "3QVGT27ypuTl",
        "outputId": "fc2ad84e-1560-4017-9e1e-1b8809538850"
      },
      "source": [
        "batch_ix = to_matrix(getrndstr(names,MAX_LENGTH))\n",
        "batch_ix"
      ],
      "execution_count": 159,
      "outputs": [
        {
          "output_type": "execute_result",
          "data": {
            "text/plain": [
              "array([[29, 32, 43, ..., 32, 38, 55]], dtype=int32)"
            ]
          },
          "metadata": {
            "tags": []
          },
          "execution_count": 159
        }
      ]
    },
    {
      "cell_type": "code",
      "metadata": {
        "id": "PlZmPifCltNB"
      },
      "source": [
        "#from random import sample\n",
        "import random\n",
        "from IPython.display import clear_output\n",
        "\n",
        "MAX_LENGTH=200\n",
        "\n",
        "char_rnn = CharRNNCell()\n",
        "criterion = nn.NLLLoss()\n",
        "opt = torch.optim.Adam(char_rnn.parameters())\n",
        "history = []\n",
        "\n",
        "for i in range(1000):\n",
        "    opt.zero_grad()\n",
        "      \n",
        "    #batch_ix = to_matrix(sample(names, 32), max_len=MAX_LENGTH)\n",
        "    #подкладываю рандомные слова\n",
        "    batch_ix = to_matrix(getrndstr(names,MAX_LENGTH)) #new\n",
        "    batch_ix = torch.tensor(batch_ix, dtype=torch.int64)\n",
        "\n",
        "    logp_seq = rnn_loop(char_rnn, batch_ix)\n",
        "\n",
        "    # compute loss\n",
        "    predictions_logp = logp_seq[:, :-1]  # YOUR CODE HERE\n",
        "    actual_next_tokens = batch_ix[:, 1:]  # YOUR CODE HERE\n",
        "\n",
        "    #     print(predictions_logp.shape, actual_next_tokens.shape)\n",
        "    loss = criterion(\n",
        "        predictions_logp.contiguous().view(-1, num_tokens),\n",
        "        actual_next_tokens.contiguous().view(-1),\n",
        "    )\n",
        "    # YOUR CODE HERE\n",
        "\n",
        "    # train with backprop\n",
        "    loss.backward()\n",
        "    opt.step()\n",
        "\n",
        "    # HISTORY MOVED TO SEPARATE SNIPPET\n",
        "    history.append(loss.data.numpy())\n"
      ],
      "execution_count": 160,
      "outputs": []
    },
    {
      "cell_type": "markdown",
      "metadata": {
        "id": "gveyFkPkmkWh"
      },
      "source": [
        "**Generate samples**"
      ]
    },
    {
      "cell_type": "code",
      "metadata": {
        "id": "Ldv4OHXgmXR7"
      },
      "source": [
        "def generate_sample(char_rnn, seed_phrase=\" \", max_length=MAX_LENGTH, temperature=1.0):\n",
        "    \"\"\"\n",
        "    The function generates text given a phrase of length at least SEQ_LENGTH.\n",
        "    :param seed_phrase: prefix characters. The RNN is asked to continue the phrase\n",
        "    :param max_length: maximum output length, including seed_phrase\n",
        "    :param temperature: coefficient for sampling.  higher temperature produces more chaotic outputs,\n",
        "                        smaller temperature converges to the single most likely output\n",
        "    \"\"\"\n",
        "\n",
        "    x_sequence = [token_to_id[token] for token in seed_phrase]\n",
        "    x_sequence = torch.tensor([x_sequence], dtype=torch.int64)\n",
        "    hid_state = char_rnn.initial_state(batch_size=1)\n",
        "\n",
        "    # feed the seed phrase, if any\n",
        "    for i in range(len(seed_phrase) - 1):\n",
        "        hid_state, _ = char_rnn(x_sequence[:, i], hid_state)\n",
        "\n",
        "    # start generating\n",
        "    for _ in range(max_length - len(seed_phrase)):\n",
        "        hid_state, logits = char_rnn(x_sequence[:, -1], hid_state)\n",
        "        p_next = F.softmax(logits / temperature, dim=-1).data.numpy()[0]\n",
        "\n",
        "        # sample next token and push it back into x_sequence\n",
        "        next_ix = np.random.choice(num_tokens, p=p_next)\n",
        "        next_ix = torch.tensor([[next_ix]], dtype=torch.int64)\n",
        "        x_sequence = torch.cat([x_sequence, next_ix], dim=1)\n",
        "\n",
        "    return \"\".join([tokens[ix] for ix in x_sequence.data.numpy()[0]])"
      ],
      "execution_count": 161,
      "outputs": []
    },
    {
      "cell_type": "markdown",
      "metadata": {
        "id": "03cB5R-OoqpZ"
      },
      "source": [
        "**Generate text**"
      ]
    },
    {
      "cell_type": "code",
      "metadata": {
        "id": "iBo81nfhPOvu"
      },
      "source": [
        "# An example of generated text. There is no function `generate_text` in the code above.\n",
        "# print(generate_text(length=500, temperature=0.2))"
      ],
      "execution_count": null,
      "outputs": []
    },
    {
      "cell_type": "code",
      "metadata": {
        "colab": {
          "base_uri": "https://localhost:8080/"
        },
        "id": "MaVIS8Qxmtf4",
        "outputId": "c0e0c780-124f-46f5-c7b7-f8628d790f6a"
      },
      "source": [
        "for _ in range(3):\n",
        "    print(generate_sample(char_rnn))"
      ],
      "execution_count": 162,
      "outputs": [
        {
          "output_type": "stream",
          "text": [
            " ожконя ни снусть служу нальшшит горно мнягомский десленный слабом сарятнук ва оболью пре любрадь сонnяю негкатвара вещей в твалъивы елчул viii ужает следа сяда на сталы дедезаешь очей вфе потолька вд\n",
            " щowt xxxiiii нишу не в тоэтей как иж пол ил смоя свачинан хоской игару биг изухать и что жисев прузда с кордвоей не забиврикной доворей думана смень теренежет а поскоганье язрлюбит свыд xxx iцогnило \n",
            " xlii спости наюмный волежные музобала ских прахо влуто но но розъеньен вмя дувкою пороздано стипы блезня сердуты мол той исвон лескудай в длюж ней чвозду гю и всё жы в посностверелом нию постожной сп\n"
          ],
          "name": "stdout"
        }
      ]
    },
    {
      "cell_type": "code",
      "metadata": {
        "id": "UtVp8i6jm0di"
      },
      "source": [
        "for _ in range(3):\n",
        "    print(generate_sample(char_rnn, seed_phrase=\" Al\"))"
      ],
      "execution_count": null,
      "outputs": []
    },
    {
      "cell_type": "code",
      "metadata": {
        "colab": {
          "base_uri": "https://localhost:8080/"
        },
        "id": "AdYhz-tGnCfN",
        "outputId": "bc2a0399-8c9c-4813-8c38-e50b7653bc3d"
      },
      "source": [
        "for _ in range(3):\n",
        "    print(generate_sample(char_rnn, temperature=0.5))"
      ],
      "execution_count": 167,
      "outputs": [
        {
          "output_type": "stream",
          "text": [
            " трычто сатьяна то приводит заманял с нечты своен поторов что в друго продала в дораги кустой на как он замов не вот коть и ветрись но советь в тобра тоствой вострать сторов постали лед пороговоров до\n",
            " постет в постатира и друго маствико сподит ее горозно лене ленский своро сердет и свет в поли друзьми воростей в такара деренье за друг не приводит не полука и пород не послоду не перодну постаром по\n",
            " поровила с пожен как не возверский поличерна страство друг не стару постал ей с потоль на стали долого на послюди сорда и волсты не столо продовал едной как она смеет замой от татьяны прокад не на пр\n"
          ],
          "name": "stdout"
        }
      ]
    },
    {
      "cell_type": "markdown",
      "metadata": {
        "id": "mXpgZ1JtjKB7"
      },
      "source": [
        "\n",
        "\n",
        "\n",
        "\n",
        "\n",
        "\n",
        "\n",
        "\n",
        "\n",
        "\n",
        "\n",
        "\n",
        "\n",
        "\n",
        "\n",
        "\n",
        "\n",
        "\n",
        "\n",
        "\n",
        "\n",
        "\n",
        "\n",
        "\n",
        "\n",
        "\n",
        "\n",
        "\n",
        "\n",
        "\n",
        "\n",
        "\n",
        "\n",
        "\n",
        "\n",
        "\n",
        "\n",
        "\n",
        "\n",
        "\n",
        "\n",
        "\n",
        "\n",
        "\n",
        "\n",
        "\n",
        "\n",
        "\n",
        "---\n",
        "\n"
      ]
    },
    {
      "cell_type": "markdown",
      "metadata": {
        "id": "C1bYHnB9POvt"
      },
      "source": [
        "Plot the loss function (axis X: number of epochs, axis Y: loss function)."
      ]
    },
    {
      "cell_type": "code",
      "metadata": {
        "collapsed": true,
        "id": "l33YtZ0iPOvu",
        "colab": {
          "base_uri": "https://localhost:8080/",
          "height": 265
        },
        "outputId": "8e212825-271e-40b0-8538-e51319686787"
      },
      "source": [
        "import matplotlib.pyplot as plt \n",
        "# Your plot code here\n",
        "if (i + 1) % 100 == 0:\n",
        "    clear_output(True)\n",
        "    plt.plot(history, label=\"loss\")\n",
        "    plt.legend()\n",
        "    plt.show()\n",
        "#assert np.mean(history[:10]) > np.mean(history[-10:]), \"RNN didn't converge.\""
      ],
      "execution_count": 102,
      "outputs": [
        {
          "output_type": "display_data",
          "data": {
            "image/png": "[encoded data removed]",
            "text/plain": [
              "<Figure size 432x288 with 1 Axes>"
            ]
          },
          "metadata": {
            "tags": [],
            "needs_background": "light"
          }
        }
      ]
    },
    {
      "cell_type": "markdown",
      "metadata": {
        "id": "CUosnNZEPOvv"
      },
      "source": [
        "### More poetic model\n",
        "\n",
        "Let's use LSTM instead of vanilla RNN and compare the results."
      ]
    },
    {
      "cell_type": "markdown",
      "metadata": {
        "id": "_7p6YsLpPOvv"
      },
      "source": [
        "Plot the loss function of the number of epochs. Does the final loss become better?"
      ]
    },
    {
      "cell_type": "code",
      "metadata": {
        "collapsed": true,
        "id": "KZeWrdlUPOvv"
      },
      "source": [
        "# Your beautiful code here"
      ],
      "execution_count": null,
      "outputs": []
    },
    {
      "cell_type": "markdown",
      "metadata": {
        "id": "UHtfrgBoPOvw"
      },
      "source": [
        "Generate text using the trained net with different `temperature` parameter: `[0.1, 0.2, 0.5, 1.0, 2.0]`.\n",
        "\n",
        "Evaluate the results visually, try to interpret them."
      ]
    },
    {
      "cell_type": "code",
      "metadata": {
        "collapsed": true,
        "id": "5DiP7G2aPOvw"
      },
      "source": [
        "# Text generation with different temperature values here"
      ],
      "execution_count": null,
      "outputs": []
    },
    {
      "cell_type": "markdown",
      "metadata": {
        "id": "0XSgbUlCPOvx"
      },
      "source": [
        "### Saving and loading models"
      ]
    },
    {
      "cell_type": "markdown",
      "metadata": {
        "id": "khe9kdFMPOvx"
      },
      "source": [
        "Save the model to the disk, then load it and generate text. Examples are available [here](https://pytorch.org/tutorials/beginner/saving_loading_models.html])."
      ]
    },
    {
      "cell_type": "code",
      "metadata": {
        "collapsed": true,
        "id": "WhH2gmdtPOvx"
      },
      "source": [
        "# Saving and loading code here"
      ],
      "execution_count": null,
      "outputs": []
    },
    {
      "cell_type": "markdown",
      "metadata": {
        "id": "YLhhvurXPOvx"
      },
      "source": [
        "### References\n",
        "1. <a href='http://karpathy.github.io/2015/05/21/rnn-effectiveness/'> Andrew Karpathy blog post about RNN. </a> \n",
        "There are several examples of genration: Shakespeare texts, Latex formulas, Linux Sourse Code and children names.\n",
        "2. <a href='https://github.com/karpathy/char-rnn'> Repo with char-rnn code </a>\n",
        "3. Cool repo with PyTorch examples: [link](https://github.com/spro/practical-pytorch`)"
      ]
    }
  ]
}