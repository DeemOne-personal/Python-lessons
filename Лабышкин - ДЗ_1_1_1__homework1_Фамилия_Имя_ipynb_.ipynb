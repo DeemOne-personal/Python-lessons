{
  "nbformat": 4,
  "nbformat_minor": 0,
  "metadata": {
    "anaconda-cloud": {},
    "kernelspec": {
      "display_name": "Python 3",
      "language": "python",
      "name": "python3"
    },
    "language_info": {
      "codemirror_mode": {
        "name": "ipython",
        "version": 3
      },
      "file_extension": ".py",
      "mimetype": "text/x-python",
      "name": "python",
      "nbconvert_exporter": "python",
      "pygments_lexer": "ipython3",
      "version": "3.5.2"
    },
    "colab": {
      "name": "ДЗ-1.1 1 \"homework1_Фамилия_Имя.ipynb\"",
      "provenance": [],
      "collapsed_sections": []
    }
  },
  "cells": [
    {
      "cell_type": "markdown",
      "metadata": {
        "id": "xd5N5_DbCgLC"
      },
      "source": [
        "## Домашнее задание 1\n",
        "### Основы Python и пакет NumPy\n",
        "---\n"
      ]
    },
    {
      "cell_type": "code",
      "metadata": {
        "id": "ezQ6PmuFCgLH"
      },
      "source": [
        "import numpy as np\n",
        "import random\n",
        "import scipy.stats as sps"
      ],
      "execution_count": 49,
      "outputs": []
    },
    {
      "cell_type": "markdown",
      "metadata": {
        "id": "JFbCysZECgLI"
      },
      "source": [
        "### Задача 1\n",
        "В первой задаче вам предлагается перемножить две матрицы двумя способами -- без использования пакета ***numpy*** и с ним. Использовать матричное произведение."
      ]
    },
    {
      "cell_type": "code",
      "metadata": {
        "id": "ZdPvn9L_CgLJ"
      },
      "source": [
        "# Для генерации матриц используем фукнцию random -- она используется для генерации случайных объектов \n",
        "# функция sample создает случайную выборку. В качестве аргумента ей передается кортеж (i,j), здесь i -- число строк,\n",
        "# j -- число столбцов.\n",
        "a = np.random.sample((100,1000))\n",
        "b = np.random.sample((1000,100))\n",
        "# выведите размерность (ранг) каждой матрицы с помощью функции ndim.\n",
        "# Используйте функцию shape, что она вывела?\n",
        "# ========\n",
        "# тут можно писать код \n",
        "# ========"
      ],
      "execution_count": null,
      "outputs": []
    },
    {
      "cell_type": "code",
      "metadata": {
        "colab": {
          "base_uri": "https://localhost:8080/"
        },
        "id": "ybF0ha_us6Fe",
        "outputId": "2c6c7fc9-1ee4-4474-e497-78283a13bc32"
      },
      "source": [
        "#ndim + shape tests\n",
        "a.ndim\n",
        "b.ndim\n",
        "a.shape\n",
        "b.shape"
      ],
      "execution_count": null,
      "outputs": [
        {
          "output_type": "execute_result",
          "data": {
            "text/plain": [
              "array([[23.75982937, 23.7816418 , 23.73256053, 25.27094675, 28.70704667,\n",
              "        23.78161478, 25.33098606, 26.61332518, 26.42458733, 25.32229965],\n",
              "       [24.56474594, 25.37180579, 25.07889699, 27.63394212, 26.25133495,\n",
              "        25.44925512, 25.73995263, 26.60445524, 26.9007609 , 25.49249584],\n",
              "       [23.05681274, 23.77903745, 25.5151748 , 25.17485068, 26.59150676,\n",
              "        24.5285865 , 23.91411125, 25.18567394, 25.22098325, 23.22832109],\n",
              "       [22.56209586, 22.92137885, 24.58535722, 26.48526741, 26.45952766,\n",
              "        23.85128913, 25.43267693, 25.03076111, 24.88786365, 26.25939731],\n",
              "       [26.73955135, 28.53999386, 28.5126405 , 30.88564366, 29.24300983,\n",
              "        27.12686417, 29.14136509, 30.91741625, 29.60122439, 29.59350814],\n",
              "       [21.34271929, 22.81990114, 21.45205871, 24.5539887 , 24.07876261,\n",
              "        21.4525195 , 23.06818466, 23.64452208, 22.45176251, 23.68136878],\n",
              "       [25.64334117, 24.6045571 , 26.38113829, 29.1126805 , 28.17103136,\n",
              "        26.82447213, 27.35013843, 29.43993828, 27.97195316, 27.7480532 ],\n",
              "       [23.54527074, 23.29725768, 23.37299897, 25.92837945, 25.59328779,\n",
              "        26.05905479, 24.03945973, 23.72359087, 23.79215541, 23.20937538],\n",
              "       [22.22306783, 24.67162525, 24.08604075, 24.40972432, 24.45938311,\n",
              "        23.4938775 , 23.35821656, 24.67291228, 24.88119581, 24.55949095],\n",
              "       [24.38095167, 23.82741001, 25.05612207, 24.82543477, 26.29745489,\n",
              "        24.3663129 , 26.03067284, 25.29002088, 25.00121329, 25.47335355]])"
            ]
          },
          "metadata": {
            "tags": []
          },
          "execution_count": 82
        }
      ]
    },
    {
      "cell_type": "code",
      "metadata": {
        "colab": {
          "base_uri": "https://localhost:8080/"
        },
        "id": "r3afIQak7Nm7",
        "outputId": "2bd15d56-ddd9-4d87-81f5-cc1efe309f7e"
      },
      "source": [
        "def np_mult(a, b):\n",
        "    # здесь напишите перемножение матриц с\n",
        "    # использованием NumPy и выведите результат\n",
        "    return np.dot(a,b)\n",
        "np_mult(a,b)"
      ],
      "execution_count": null,
      "outputs": [
        {
          "output_type": "execute_result",
          "data": {
            "text/plain": [
              "array([[255.02788709, 250.28218658, 252.50621586, ..., 253.86973555,\n",
              "        258.6636907 , 255.48011751],\n",
              "       [244.98650246, 246.70666763, 253.6322028 , ..., 253.79703809,\n",
              "        254.97837975, 254.23302046],\n",
              "       [242.33280131, 238.58418391, 248.10256205, ..., 250.8038926 ,\n",
              "        254.957914  , 252.29041521],\n",
              "       ...,\n",
              "       [245.55664975, 248.30536005, 251.8225555 , ..., 254.57052714,\n",
              "        254.41386736, 255.80916937],\n",
              "       [244.75557811, 242.45416833, 242.39500612, ..., 247.83231113,\n",
              "        246.39921996, 249.54851826],\n",
              "       [254.65446358, 254.45449847, 259.72414814, ..., 251.90747978,\n",
              "        255.10080479, 256.112332  ]])"
            ]
          },
          "metadata": {
            "tags": []
          },
          "execution_count": 93
        }
      ]
    },
    {
      "cell_type": "markdown",
      "metadata": {
        "id": "_KcruO0ZCgLK"
      },
      "source": [
        ""
      ]
    },
    {
      "cell_type": "code",
      "metadata": {
        "id": "fksIiSKlCgLL"
      },
      "source": [
        "# Превратим матрицы в листы, чтобы протестировать функцию без np\n",
        "a_list = [[x for x in row] for row in a]\n",
        "b_list = [[x for x in row] for row in b]"
      ],
      "execution_count": null,
      "outputs": []
    },
    {
      "cell_type": "code",
      "metadata": {
        "id": "NDINLK1ICgLM"
      },
      "source": [
        "%%time\n",
        "# засечем время работы функции без NumPy\n",
        "mult(a_list, b_list)"
      ],
      "execution_count": null,
      "outputs": []
    },
    {
      "cell_type": "code",
      "metadata": {
        "id": "D1CqLQt9CgLN",
        "colab": {
          "base_uri": "https://localhost:8080/"
        },
        "outputId": "d4900a00-6d21-4f1a-935f-8a07fd38c4bc"
      },
      "source": [
        "%%time\n",
        "# засечем время работы функции с NumPy\n",
        "np_mult(a, b)"
      ],
      "execution_count": null,
      "outputs": [
        {
          "output_type": "stream",
          "text": [
            "CPU times: user 3.38 ms, sys: 1.09 ms, total: 4.48 ms\n",
            "Wall time: 6.42 ms\n"
          ],
          "name": "stdout"
        },
        {
          "output_type": "execute_result",
          "data": {
            "text/plain": [
              "array([[255.02788709, 250.28218658, 252.50621586, ..., 253.86973555,\n",
              "        258.6636907 , 255.48011751],\n",
              "       [244.98650246, 246.70666763, 253.6322028 , ..., 253.79703809,\n",
              "        254.97837975, 254.23302046],\n",
              "       [242.33280131, 238.58418391, 248.10256205, ..., 250.8038926 ,\n",
              "        254.957914  , 252.29041521],\n",
              "       ...,\n",
              "       [245.55664975, 248.30536005, 251.8225555 , ..., 254.57052714,\n",
              "        254.41386736, 255.80916937],\n",
              "       [244.75557811, 242.45416833, 242.39500612, ..., 247.83231113,\n",
              "        246.39921996, 249.54851826],\n",
              "       [254.65446358, 254.45449847, 259.72414814, ..., 251.90747978,\n",
              "        255.10080479, 256.112332  ]])"
            ]
          },
          "metadata": {
            "tags": []
          },
          "execution_count": 97
        }
      ]
    },
    {
      "cell_type": "markdown",
      "metadata": {
        "id": "-FZKau8yCgLO"
      },
      "source": [
        "### Задача 2\n",
        "Напишите функцию, которая по данной последовательности $\\{A_i\\}_{i=1}^n$ строит последовательность $S_n$, где $S_k = \\frac{A_1 + ... + A_k}{k}$.  \n",
        "Аналогично -- с помощью библиотеки **NumPy** и без нее. Сравните скорость, объясните результат."
      ]
    },
    {
      "cell_type": "code",
      "metadata": {
        "id": "H1pjZQXcCgLP"
      },
      "source": [
        "# функция, решающая задачу с помощью NumPy\n",
        "def sec_av(A):\n",
        "    # Ваш код здесь"
      ],
      "execution_count": null,
      "outputs": []
    },
    {
      "cell_type": "code",
      "metadata": {
        "colab": {
          "base_uri": "https://localhost:8080/"
        },
        "id": "8XbM88D0imFu",
        "outputId": "62f46f01-73a1-4b00-f9af-0a8dd6333bdb"
      },
      "source": [
        "# функция, решающая задачу с помощью NumPy\n",
        "import numpy as np\n",
        "testlst=list(range(1, 6)) #test array\n",
        "\n",
        "def sec_av(A):\n",
        "  res=[]\n",
        "  for idx, x in np.ndenumerate(A):\n",
        "    res.append( sum(A[:idx[0]+1]) )\n",
        "  return res  \n",
        "print(testlst)\n",
        "sec_av(testlst)"
      ],
      "execution_count": 53,
      "outputs": [
        {
          "output_type": "stream",
          "text": [
            "[1, 2, 3, 4, 5]\n"
          ],
          "name": "stdout"
        },
        {
          "output_type": "execute_result",
          "data": {
            "text/plain": [
              "[1, 3, 6, 10, 15]"
            ]
          },
          "metadata": {
            "tags": []
          },
          "execution_count": 53
        }
      ]
    },
    {
      "cell_type": "code",
      "metadata": {
        "colab": {
          "base_uri": "https://localhost:8080/"
        },
        "id": "1zqa0mE7es0h",
        "outputId": "71bd7cd0-e859-4890-c9f3-eb9860134f0c"
      },
      "source": [
        "# функция без NumPy\n",
        "testlst=list(range(1, 6)) #test array\n",
        "\n",
        "def stupid_sec_av(A):\n",
        "  np.array(A)\n",
        "  num=1\n",
        "  res=[]\n",
        "  for i in lst:    \n",
        "    numadd=sum(lst[:num])\n",
        "    res.append(numadd)\n",
        "    num+=1\n",
        "  return res\n",
        "print(testlst)\n",
        "stupid_sec_av(testlst)\n",
        "    \n",
        "    "
      ],
      "execution_count": 52,
      "outputs": [
        {
          "output_type": "stream",
          "text": [
            "[1, 2, 3, 4, 5]\n"
          ],
          "name": "stdout"
        },
        {
          "output_type": "execute_result",
          "data": {
            "text/plain": [
              "[1, 3, 6, 10, 15]"
            ]
          },
          "metadata": {
            "tags": []
          },
          "execution_count": 52
        }
      ]
    },
    {
      "cell_type": "code",
      "metadata": {
        "id": "5u72pOyLCgLQ",
        "colab": {
          "base_uri": "https://localhost:8080/"
        },
        "outputId": "6fac165b-0ec2-4267-ef72-06ec51dc5c76"
      },
      "source": [
        "# функция без NumPy\n",
        "#def stupid_sec_av(A):\n",
        "    # Ваш код здесь\n",
        "\n",
        "# зададим некоторую последовательность и проверим ее на ваших функциях. \n",
        "# Первая функция должна работать ~ в 50 раз быстрее\n",
        "A = sps.uniform.rvs(size=10 ** 6) \n",
        "A_list = list(A)\n",
        "\n",
        "%time S1 = sec_av(A)\n",
        "%time S2 = stupid_sec_av(A_list)\n",
        "#проверим корректность:\n",
        "np.abs(S1 - S2).sum()"
      ],
      "execution_count": 55,
      "outputs": [
        {
          "output_type": "stream",
          "text": [
            "\n"
          ],
          "name": "stdout"
        }
      ]
    },
    {
      "cell_type": "markdown",
      "metadata": {
        "id": "MFni59bDCgLR"
      },
      "source": [
        "### Задача 3\n",
        "\n",
        "Пусть задан некоторый массив $X$. Надо построить новый массив, где все элементы с нечетными индексами требуется заменить на число $a$ (если оно не указано, то на 1). Все элементы с четными индексами исходного массива нужно возвести в куб и записать в обратном порядке относительно позиций этих элементов. Массив $X$ при этом должен остаться без изменений. В конце требуется слить (конкатенировать) массив X с преобразованным X и вывести в обратном порядке. "
      ]
    },
    {
      "cell_type": "code",
      "metadata": {
        "id": "c3icYUD-CgLT"
      },
      "source": [
        "# функция, решающая задачу с помощью NumPy\n",
        "def transformation(X, a=1):\n",
        "    # Ваш код здесь\n",
        "    return Y"
      ],
      "execution_count": null,
      "outputs": []
    },
    {
      "cell_type": "code",
      "metadata": {
        "id": "cKR4IZL_CgLT"
      },
      "source": [
        "# функция, решающая задачу  без NumPy\n",
        "def stupid_transformation(X, a=1):\n",
        "    # Ваш код здесь\n",
        "    return Y"
      ],
      "execution_count": null,
      "outputs": []
    },
    {
      "cell_type": "code",
      "metadata": {
        "colab": {
          "base_uri": "https://localhost:8080/"
        },
        "id": "Jbf3sKQrlvej",
        "outputId": "46d26990-91f6-4f0d-a71f-b7826d954276"
      },
      "source": [
        "# функция, решающая задачу  без NumPy\n",
        "def stupid_transformation(X, a=1):\n",
        "  arr=X.copy()\n",
        "  arreven=X[::-2]\n",
        "  arreven=[item**3 for item in arreven] \n",
        "  evenidx=0\n",
        "  for idx in range(len(arr)):\n",
        "    if (idx%2!=0):\n",
        "      arr[idx]=a\n",
        "      evenidx+=1\n",
        "    else:\n",
        "      arr[idx]=arreven[evenidx]\n",
        "\n",
        "  arrconcat=X+arr    \n",
        "  return arrconcat[::-1]\n",
        "\n",
        "arrtst=[0,1,0,2,0,3]\n",
        "stupid_transformation(arrtst,a=9999)"
      ],
      "execution_count": null,
      "outputs": [
        {
          "output_type": "execute_result",
          "data": {
            "text/plain": [
              "[9999, 1, 9999, 2, 9999, 3, 3, 0, 2, 0, 1, 0]"
            ]
          },
          "metadata": {
            "tags": []
          },
          "execution_count": 158
        }
      ]
    },
    {
      "cell_type": "code",
      "metadata": {
        "colab": {
          "base_uri": "https://localhost:8080/"
        },
        "id": "BKkjn6x6_ugp",
        "outputId": "b5c22036-c8d6-4b42-b873-8a082980fa5f"
      },
      "source": [
        "# функция, решающая задачу  без NumPy\n",
        "def stupid_transformation(X, a=1):\n",
        "  arr =X.copy()\n",
        "  arreven=X[::2]\n",
        "  arreven=[i**3 for i in arreven] \n",
        "  arr[::2]=arreven[::-1]\n",
        "  arodd=arr[1::2] \n",
        "  arodd=[a for item in arodd] \n",
        "  arr[1::2]=arodd\n",
        "  res=X+arr\n",
        "  return res[::-1]\n",
        "arrtst=[2,0,4,0,6,0]\n",
        "stupid_transformation(arrtst,a=9999)\n"
      ],
      "execution_count": null,
      "outputs": [
        {
          "output_type": "execute_result",
          "data": {
            "text/plain": [
              "[9999, 8, 9999, 64, 9999, 216, 0, 6, 0, 4, 0, 2]"
            ]
          },
          "metadata": {
            "tags": []
          },
          "execution_count": 215
        }
      ]
    },
    {
      "cell_type": "code",
      "metadata": {
        "colab": {
          "base_uri": "https://localhost:8080/"
        },
        "id": "GNzOnAR6Y2QA",
        "outputId": "a8501781-12ad-4e1c-f430-1a997b0147a0"
      },
      "source": [
        "# функция, решающая задачу с NumPy\n",
        "def stupid_transformation(X, a=1):\n",
        "  old =np.array(X)\n",
        "  arr =np.array(X).copy()\n",
        "  arr[::2]**=3 \n",
        "  arr[1::2]=a\n",
        "  arreven=arr[::2]\n",
        "  arr[::2]=arreven[::-1]\n",
        "  res=np.concatenate((old, arr))\n",
        "  return res[::-1]\n",
        "arrtst=[2,0,4,0,6,0]\n",
        "stupid_transformation(arrtst,a=9999)\n",
        "\n"
      ],
      "execution_count": null,
      "outputs": [
        {
          "output_type": "execute_result",
          "data": {
            "text/plain": [
              "array([9999,    8, 9999,   64, 9999,  216,    0,    6,    0,    4,    0,\n",
              "          2])"
            ]
          },
          "metadata": {
            "tags": []
          },
          "execution_count": 301
        }
      ]
    },
    {
      "cell_type": "code",
      "metadata": {
        "id": "v4E3aExwCgLT",
        "colab": {
          "base_uri": "https://localhost:8080/"
        },
        "outputId": "74a68284-797f-4be5-fe5c-8205641bd1dd"
      },
      "source": [
        "X = sps.uniform.rvs(size=10 ** 3)\n",
        "X_list = list(X)\n",
        "# здесь код эффективнее примерно в 20 раз. \n",
        "# если Вы вдруг соберетесь печатать массив без np -- лучше сначала посмотрите на его размер\n",
        "%time S1 = transformation(X)\n",
        "%time S2 = stupid_transformation(X_list)\n",
        "# проверим корректность:\n",
        "print(np.abs(S1 - S2).sum())"
      ],
      "execution_count": null,
      "outputs": [
        {
          "output_type": "stream",
          "text": [
            "\n"
          ],
          "name": "stdout"
        }
      ]
    },
    {
      "cell_type": "markdown",
      "metadata": {
        "id": "2L5YADTbCgLU"
      },
      "source": [
        "Почему методы ***numpy*** оказываются эффективнее?"
      ]
    },
    {
      "cell_type": "code",
      "metadata": {
        "id": "uIV79I_CCgLU"
      },
      "source": [
        "# Ваш ответ\n",
        "Numpy, как и большинство других либ, написаны на C, вызываясь питоном в качестве API. \n",
        "Классический код на питоне исполняются интерпретатором, что несравнимо по скорости со скомпилированным исполняемым кодом."
      ],
      "execution_count": null,
      "outputs": []
    },
    {
      "cell_type": "markdown",
      "metadata": {
        "id": "e7aowW50CgLU"
      },
      "source": [
        "## Дополнительные задачи"
      ]
    },
    {
      "cell_type": "markdown",
      "metadata": {
        "id": "5j0qzClECgLU"
      },
      "source": [
        "Дополнительные задачи подразумевают, что Вы самостоятельно разберётесь в некоторых функциях ***numpy***, чтобы их сделать, но в то же время не являются обязательными."
      ]
    },
    {
      "cell_type": "markdown",
      "metadata": {
        "id": "9Im6jx-fCgLV"
      },
      "source": [
        "### Задача 4*"
      ]
    },
    {
      "cell_type": "markdown",
      "metadata": {
        "id": "Ca61BCNtCgLV"
      },
      "source": [
        "Дана функция двух переменных: $f(x, y) = sin(x)cos(y)$ (это просто такой красивый 3D-график), а также дана функция для отрисовки $f(x, y)$ (`draw_f()`), которая принимает на вход двумерную сетку, на которой будет вычисляться функция.  \n",
        "\n",
        "Вам нужно разобраться в том, как строить такие сетки (подсказка - это одна конкретная функция ***numpy***), и подать такую сетку на вход функции отрисовки."
      ]
    },
    {
      "cell_type": "code",
      "metadata": {
        "id": "8MHuCrDiCgLW"
      },
      "source": [
        "from matplotlib import pyplot as plt\n",
        "from mpl_toolkits.mplot3d import Axes3D\n",
        "%matplotlib inline\n",
        "\n",
        "def f(x, y):\n",
        "    '''Функция двух переменных'''\n",
        "    return np.sin(x) * np.cos(y)\n",
        "\n",
        "def draw_f(grid_x, grid_y):\n",
        "    '''Функция отрисовки функции f(x, y)'''\n",
        "    fig = plt.figure(figsize=(10, 8))\n",
        "    ax = Axes3D(fig)\n",
        "    ax.plot_surface(grid_x, grid_y, f(grid_x, grid_y), cmap='inferno')\n",
        "    plt.show()"
      ],
      "execution_count": null,
      "outputs": []
    },
    {
      "cell_type": "code",
      "metadata": {
        "id": "hcMQgtmnCgLX"
      },
      "source": [
        "grid_x, grid_y = # Ваш ответ\n",
        "\n",
        "draw_f(grid_x, grid_y)"
      ],
      "execution_count": null,
      "outputs": []
    },
    {
      "cell_type": "markdown",
      "metadata": {
        "id": "qBlJrj61CgLY"
      },
      "source": [
        "### Задача 5*"
      ]
    },
    {
      "cell_type": "markdown",
      "metadata": {
        "id": "P1hjdcRhCgLY"
      },
      "source": [
        "Вам дана картинка. При загрузке её размерность равна 3: **(w, h, num_channels)**, где **w** - ширина картинки в пикселях, **h** - высота картинки в пикселях, **num_channels** - количество каналов *(R, G, B, alpha)*.\n",
        "\n",
        "Вам нужно \"развернуть\" картинку в одномерный массив размера w \\* h \\* num_channels, написав **одну строку кода**."
      ]
    },
    {
      "cell_type": "code",
      "metadata": {
        "id": "seX-vVZXCgLZ"
      },
      "source": [
        "from matplotlib import pyplot as plt\n",
        "%matplotlib inline"
      ],
      "execution_count": null,
      "outputs": []
    },
    {
      "cell_type": "markdown",
      "metadata": {
        "id": "96Eov3rlCgLZ"
      },
      "source": [
        "Загрузим картинку. Если эта ячейка не сработает, смотрите дальше:"
      ]
    },
    {
      "cell_type": "code",
      "metadata": {
        "id": "9i-Cu-XaCgLZ"
      },
      "source": [
        "path_to_image = './image.jpg'\n",
        "image_array = plt.imread(path_to_image)"
      ],
      "execution_count": null,
      "outputs": []
    },
    {
      "cell_type": "markdown",
      "metadata": {
        "id": "ehuFXBubCgLa"
      },
      "source": [
        "Если Вы работаете в google colab или по каким-то еще причинам картинка с диска не загрузилась, можно попробовать загрузить через ссылку в интернете:"
      ]
    },
    {
      "cell_type": "code",
      "metadata": {
        "id": "Xj7dbK72CgLa"
      },
      "source": [
        "from PIL import Image\n",
        "import requests\n",
        "from io import BytesIO\n",
        "\n",
        "path_to_image = '__enter your image URL here__'\n",
        "# например: https://github.com/hocop/sberbank_madmo/raw/master/day_1/homework/image.jpg\n",
        "\n",
        "response = requests.get(path_to_image)\n",
        "img = Image.open(BytesIO(response.content))\n",
        "\n",
        "image_array = np.array(img)"
      ],
      "execution_count": null,
      "outputs": []
    },
    {
      "cell_type": "markdown",
      "metadata": {
        "id": "geCcsBM8CgLa"
      },
      "source": [
        "В любом случае, у Вас должен появиться объект `image_array`.  \n",
        "Распечатаем его на экране:"
      ]
    },
    {
      "cell_type": "code",
      "metadata": {
        "id": "PFR93PrqCgLb"
      },
      "source": [
        "plt.imshow(image_array);"
      ],
      "execution_count": null,
      "outputs": []
    },
    {
      "cell_type": "code",
      "metadata": {
        "id": "10cyZem4CgLb"
      },
      "source": [
        "# Ваш код здесь"
      ],
      "execution_count": null,
      "outputs": []
    },
    {
      "cell_type": "code",
      "metadata": {
        "id": "o-Vogp1eCgLb"
      },
      "source": [
        "# Здесь выведите размерность нового массива"
      ],
      "execution_count": null,
      "outputs": []
    },
    {
      "cell_type": "code",
      "metadata": {
        "id": "EKE_opPRCgLb"
      },
      "source": [
        ""
      ],
      "execution_count": null,
      "outputs": []
    }
  ]
}